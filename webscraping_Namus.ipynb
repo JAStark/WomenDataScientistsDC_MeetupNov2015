{
 "cells": [
  {
   "cell_type": "markdown",
   "metadata": {},
   "source": [
    "<h1>Women Data Scientists, DC Meetup, November 2015</h1>\n",
    "<h2>Jennifer A Stark</h2>\n",
    "<h3>Webscraping code for how I got the data from the NamUs website, and put it in a Pandas dataframe</h3>"
   ]
  },
  {
   "cell_type": "markdown",
   "metadata": {},
   "source": [
    "<h3>Step 1: grab all the HTML files from the website and save them on your harddrive</h3>"
   ]
  },
  {
   "cell_type": "markdown",
   "metadata": {},
   "source": [
    "* **First, import everything we need**"
   ]
  },
  {
   "cell_type": "code",
   "execution_count": null,
   "metadata": {
    "collapsed": true
   },
   "outputs": [],
   "source": [
    "import pandas as pd\n",
    "from bs4 import BeautifulSoup\n",
    "import requests\n",
    "from time import sleep"
   ]
  },
  {
   "cell_type": "markdown",
   "metadata": {},
   "source": [
    "* **Next, initialize the `namus_scrape` function**\n",
    "-> **This function will loop through a range of numeric values (cases), and for each value it will print it and attempt to give it to the function `get_html`. If `get_html` cannot use it, `namus_scrape` will `continue` to the next numeral (case).**"
   ]
  },
  {
   "cell_type": "markdown",
   "metadata": {},
   "source": [
    "* Using `sleep(2)` is polite so as not to overwhelm the website. This function will politely wait 2 seconds before trying the next case number."
   ]
  },
  {
   "cell_type": "code",
   "execution_count": null,
   "metadata": {
    "collapsed": true
   },
   "outputs": [],
   "source": [
    "def namus_scrape(cases):\n",
    "    for case in cases:\n",
    "        try:\n",
    "            print(case)\n",
    "            get_html(case)\n",
    "        except:\n",
    "            continue\n",
    "    sleep(2)"
   ]
  },
  {
   "cell_type": "markdown",
   "metadata": {},
   "source": [
    "* **Initialize the `get_html` function -> This function will look for the current case number on the website, and if it finds it, will grab the html and write it to a file on your machine.**"
   ]
  },
  {
   "cell_type": "code",
   "execution_count": null,
   "metadata": {
    "collapsed": true
   },
   "outputs": [],
   "source": [
    "def get_html(case_id):\n",
    "    \n",
    "    #using the current case number passed to it from namus_scrape, we create a filename eg `case_30.html` and \n",
    "    #assign it the varible name `case_html` to be used in this function\n",
    "    case_html = ('case_' + str(case_id) + '.html')\n",
    "    \n",
    "    #open this new file as f (f for 'file')\n",
    "    with open((case_html), 'wb') as f:\n",
    "        \n",
    "        #go get the URL for the case we're currently on ('case_id') and call it 'r'\n",
    "        r = requests.get('https://identifyus.org/en/cases/' + str(case_id) + '/')\n",
    "        \n",
    "        #turn the URL data into text and call it 'b'\n",
    "        b = BeautifulSoup(r.text)\n",
    "        \n",
    "        #for each 1024-bit chunk of data, write it to our html file 'f'\n",
    "        for b in r.iter_content(1024):\n",
    "            f.write(b)\n",
    "            \n",
    "    #return our newly written case_html file\n",
    "    return case_html"
   ]
  },
  {
   "cell_type": "markdown",
   "metadata": {},
   "source": [
    "* **With these 2 functions initiallised, we can now call namus_scrape with the range of cases we want.**\n",
    "* **I did this in chunks of ~500 cos it takes a while**\n",
    "* **The below range represents the <em>whole</em> range of values searched**"
   ]
  },
  {
   "cell_type": "code",
   "execution_count": null,
   "metadata": {
    "collapsed": true
   },
   "outputs": [],
   "source": [
    "namus_scrape(range(0, 16000))"
   ]
  },
  {
   "cell_type": "markdown",
   "metadata": {},
   "source": [
    "<h3>Step 2: Trawl through each HTML file on your machine extracting all the data you want, and pickle it (save it as a dataframe for later)</h3>"
   ]
  },
  {
   "cell_type": "markdown",
   "metadata": {},
   "source": [
    "* **First we make an empty list to store the data from each case**"
   ]
  },
  {
   "cell_type": "code",
   "execution_count": null,
   "metadata": {
    "collapsed": true
   },
   "outputs": [],
   "source": [
    "#Initiallize an empty list to put things into\n",
    "namus = []"
   ]
  },
  {
   "cell_type": "markdown",
   "metadata": {},
   "source": [
    "* **Next we initialize a function to try to open each case HTML file on your machine. **\n",
    "* **When it finds file that exists, it passes it to the `get_namus_fromFile` function**"
   ]
  },
  {
   "cell_type": "code",
   "execution_count": null,
   "metadata": {
    "collapsed": true
   },
   "outputs": [],
   "source": [
    "def namus_fromFile(cases):\n",
    "    for case in cases:\n",
    "        \n",
    "        #use 'try' because not every case number has a case-file associated with it\n",
    "        try:\n",
    "            \n",
    "            #open the file if it exists, and read it\n",
    "            with open((\"../../Namus_data/html_files2/\" + 'case_' + str(case) + '.html'), 'rU') as f:\n",
    "                \n",
    "                #this next bit checks that the file is long. Some files were 'placeholders' and had no actual case data\n",
    "                lines = len(f.readlines())\n",
    "                if lines > 500:\n",
    "                    \n",
    "                    #if it is long enough to have case information, read it:\n",
    "                    with open((\"../../Namus_data/html_files2/\" + 'case_' + str(case) + '.html'), 'rU') as f:\n",
    "                        html = f.read()\n",
    "                        \n",
    "                        # I like printing things cos I can see it's working!\n",
    "                        print(case)\n",
    "                        \n",
    "                        #call `get_namus_fromFile` and pass it the file we just found. Then append everything \n",
    "                        # `get_namus_fromFile` collected to our `namus` list\n",
    "                        namus.append(get_namus_fromFile(html))\n",
    "                        \n",
    "        #if there IS not file for that case number, continue to the next case number\n",
    "        except:\n",
    "            continue"
   ]
  },
  {
   "cell_type": "markdown",
   "metadata": {},
   "source": [
    "* **The file is passed to `get_namus_fromFile` which goes through file and extracts the data described below**"
   ]
  },
  {
   "cell_type": "code",
   "execution_count": null,
   "metadata": {
    "collapsed": true
   },
   "outputs": [],
   "source": [
    "#read in the html file that function `namus_fromFile` found\n",
    "def get_namus_fromFile(html):\n",
    "    \n",
    "    #open with beautiful soup so you can use its functionality to extract all the data you want\n",
    "    b = BeautifulSoup(html)\n",
    "    \n",
    "    #for each individual case, an empty dictionary is initiated. \n",
    "    #Every line afterwards stores data (values) from each case to keys named on the left of the '=' for that one case\n",
    "    individual={}\n",
    "    \n",
    "    individual['case_rating'] = b.find(name='dt', attrs={'class':'rating'}).find(name='span').text.strip() \n",
    "    individual['case_status'] = b.find(name='label', attrs={'for':'case_status'}).find_next('td').text.strip() \n",
    "    individual['case_number'] = b.find(name='label', attrs={'for':'case_case_number'}).find_next('td').text.strip() \n",
    "    individual['date_found'] = b.find(name='label', attrs={'for':'case_date_found_2i'}).find_next('td').text.strip()\n",
    "   \n",
    "    individual['est_age'] = b.find(name='label', attrs={'for':'case_estimated_age'}).find_next('td').text.strip()\n",
    "    individual['min_age']= b.find(name='label', attrs={'for':'case_minimum_age'}).find_next('td').text.strip()\n",
    "    individual['max_age'] = b.find(name='label', attrs={'for':'case_maximum_age'}).find_next('td').text.strip()\n",
    "    individual['race'] = b.find(name='label', attrs={'for':'case_race'}).find_next('td').text.strip() \n",
    "    individual['ethnicity'] = b.find(name='label', attrs={'for':'case_ethnicity'}).find_next('td').text.strip()\n",
    "    individual['sex'] = b.find(name='label', attrs={'for':'case_sex'}).find_next('td').text.strip() \n",
    "    individual['weight'] = b.find(name='label', attrs={'for':'case_weight'}).find_next('td').text.strip() \n",
    "    individual['height'] = b.find(name='label', attrs={'for':'case_height'}).find_next('td').text.strip()\n",
    "    \n",
    "    individual['all_parts_recovered'] = int(b.find(name='input', id='case_body_inventory_all_parts_recovered').find_next('input')['value'])\n",
    "    individual['head_not_recovered'] = int(b.find(name='input', id='case_body_inventory_head_not_recovered').find_next('input')['value'])\n",
    "    individual['torso_not_recovered'] = int(b.find(name='input', id='case_body_inventory_torso_not_recovered').find_next('input')['value'])\n",
    "    individual['n-limbs_not_recovered'] = int(b.find(name='input', id='case_body_inventory_limbs_not_recovered').find_next('input')['value'])\n",
    "    individual['n-hands_not_recovered'] = int(b.find(name='input', id='case_body_inventory_hands_not_recovered').find_next('input')['value'])\n",
    "    individual['recognizable_face'] = b.find(name='label', attrs={'for':'case_body_condition'}).find_next('td').text.strip() \n",
    "    \n",
    "    individual['min_year_of_death'] = b.find(name='label', attrs={'for':'case_minimum_year_of_death'}).find_next('td').text.strip()\n",
    "    individual['postmortem_interval'] = b.find(name='label', attrs={'for':'case_postmortem_interval'}).find_next('td').text.strip()\n",
    "    \n",
    "    individual['address_1'] = b.find(name='label', attrs={'for':'case_address_found_1'}).find_next('td').text.strip()\n",
    "    individual['address_2'] = b.find(name='label', attrs={'for':'case_address_found_2'}).find_next('td').text.strip()\n",
    "    individual['city'] = b.find(name='label', attrs={'for':'case_city_found'}).find_next('td').text.strip()\n",
    "    individual['state'] = b.find(name='label', attrs={'for':'case_state_found_id'}).find_next('td').text.strip()\n",
    "    individual['zip'] = b.find(name='label', attrs={'for':'case_zip_found'}).find_next('td').text.strip()\n",
    "    individual['county'] = b.find(name='label', attrs={'for':'case_county_found_id'}).find_next('td').text.strip()\n",
    "    \n",
    "    individual['circumstances'] = b.find(name='div', id=\"case_circumstances\").text.strip()\n",
    "    \n",
    "    individual['hair_color'] = b.find(name='label', attrs={'for':'case_hair_color'}).find_next('td').text.strip()\n",
    "    individual['head_hair'] = b.find(name='div', id='case_head_hair').text.strip() \n",
    "    individual['body_hair'] = b.find(name='div', id='case_body_hair').text.strip() \n",
    "    individual['facial_hair'] = b.find(name='div', id='case_facial_hair').text.strip() \n",
    "    individual['left_eye_color'] = b.find(name='label', attrs = {'for':'case_eye_color_left'}).find_next('td').text.strip() \n",
    "    individual['right_eye_color'] = b.find(name='label', attrs = {'for':'case_eye_color_right'}).find_next('td').text.strip() \n",
    "    individual['eye_description'] = b.find(name='div', id='case_eye_description').text.strip() \n",
    "    \n",
    "    individual['amputations'] = int(b.find(name='input', id='case_amputations').find_next('input')['value'])\n",
    "    if individual['amputations'] == 1:\n",
    "        individual['amputations_description'] = b.find(name='div', id='case_amputations_details').text.strip() \n",
    "    else:\n",
    "        individual['amputations_description'] = 'NA'\n",
    "        \n",
    "    individual['deformities'] = int(b.find(name='input', id='case_deformities').find_next('input')['value'])\n",
    "    if individual['deformities'] == 1:\n",
    "        individual['deformities_description'] = b.find(name='div', id='case_deformities_details').text.strip() \n",
    "    else:\n",
    "        individual['deformities_description'] = 'NA'\n",
    "        \n",
    "    individual['scars_and_marks'] = int(b.find(name='input', id='case_scars_and_marks').find_next('input')['value'])\n",
    "    if individual['scars_and_marks'] == 1:\n",
    "        individual['scars_and_marks_description'] = b.find(name='div', id='case_scars_and_marks_details').text.strip() \n",
    "    else:\n",
    "        individual['scars_and_marks_description'] = 'NA'\n",
    "        \n",
    "    individual['tattoos'] = int(b.find(name='input', id='case_tattoos').find_next('input')['value'])\n",
    "    if individual['tattoos'] == 1:\n",
    "        individual['tattoos_description'] = b.find(name='div', id='case_tattoos_details').text.strip() \n",
    "    else:\n",
    "        individual['tattoos_description'] = 'NA'\n",
    "    \n",
    "    individual['piercings'] = int(b.find(name='input', id='case_piercings').find_next('input')['value'])\n",
    "    if individual['piercings'] == 1:\n",
    "        individual['piercings_description'] = b.find(name='div', id='case_piercings_details').text.strip() \n",
    "    else:\n",
    "        individual['piercings_description'] = 'NA'\n",
    "        \n",
    "    individual['artificial_parts_aids'] = int(b.find(name='input', id='case_artificial_body_parts_and_aids').find_next('input')['value'])\n",
    "    if individual['artificial_parts_aids'] == 1:\n",
    "        individual['artificial_parts_aids_description'] = b.find(name='div', id='case_artificial_body_parts_and_aids_details').text.strip() \n",
    "    else:\n",
    "        individual['artificial_parts_aids_description'] = 'NA'\n",
    "        \n",
    "    individual['finger_toe_nails'] = int(b.find(name='input', id='case_finger_and_toe_nails').find_next('input')['value'])\n",
    "    if individual['finger_toe_nails'] == 1:\n",
    "        individual['finger_toe_nails_description'] = b.find(name='div', id='case_finger_and_toe_nails_details').text.strip() \n",
    "    else:\n",
    "        individual['finger_toe_nails_description'] = 'NA'\n",
    "        \n",
    "    individual['other_distinctive_features'] = int(b.find(name='input', id='case_physical_other').find_next('input')['value'])\n",
    "    if individual['other_distinctive_features'] == 1:\n",
    "        individual['other_distinctive_features_description'] = b.find(name='div', id='case_physical_other_details').text.strip() \n",
    "    else:\n",
    "        individual['other_distinctive_features_description'] = 'NA'\n",
    "        \n",
    "    individual['medical_implants'] = int(b.find(name='input', id='case_medical_implants').find_next('input')['value'])\n",
    "    if individual['medical_implants'] == 1:\n",
    "        individual['medical_implants_description'] = b.find(name='div', id='case_medical_implants_details').text.strip() \n",
    "    else:\n",
    "        individual['medical_implants_description'] = 'NA'\n",
    "        \n",
    "    individual['foreign_objects'] = int(b.find(name='input', id='case_foreign_objects').find_next('input')['value'])\n",
    "    if individual['foreign_objects'] == 1:\n",
    "        individual['foreign_objects_description'] = b.find(name='div', id='case_foreign_objects_details').text.strip() \n",
    "    else:\n",
    "        individual['foreign_objects_description'] = 'NA'\n",
    "        \n",
    "    individual['skeletal_findings'] = int(b.find(name='input', id='case_skeletal_findings').find_next('input')['value'])\n",
    "    if individual['skeletal_findings'] == 1:\n",
    "        individual['skeletal_findings_description'] = b.find(name='div', id='case_skeletal_findings_details').text.strip() \n",
    "    else:\n",
    "        individual['skeletal_findings_description'] = 'NA'\n",
    "       \n",
    "    individual['organ_absent'] = int(b.find(name='input', id='case_organ_absent').find_next('input')['value'])\n",
    "    if individual['organ_absent'] == 1:\n",
    "        individual['organ_absent_description'] = b.find(name='div', id='case_organ_absent_details').text.strip() \n",
    "    else:\n",
    "        individual['organ_absent_description'] = 'NA'\n",
    "        \n",
    "    individual['prior_surgery'] = int(b.find(name='input', id='case_prior_surgery').find_next('input')['value'])\n",
    "    if individual['prior_surgery'] == 1:\n",
    "        individual['prior_surgery_description'] = b.find(name='div', id='case_prior_surgery_details').text.strip() \n",
    "    else:\n",
    "        individual['prior_surgery_description'] = 'NA'\n",
    "        \n",
    "    individual['other_medical_information'] = int(b.find(name='input', id='case_medical_other').find_next('input')['value'])\n",
    "    if individual['other_medical_information'] == 1:\n",
    "        individual['other_medical_information_description'] = b.find(name='div', id='case_medical_other_details').text.strip() \n",
    "    else:\n",
    "        individual['other_medical_information_description'] = 'NA'\n",
    "    \n",
    "    individual['fingerprints'] = b.find(name='div', id='fingerprints').find_next('td', attrs={'class':'view_field'}).text.strip()\n",
    "   \n",
    "    individual['clothing_on_body'] = b.find('div', id='case_clothing_on_body').text.strip() \n",
    "    individual['clothing_with_body'] = b.find('div', id='case_clothing_with_body').text.strip() \n",
    "    individual['footwear'] = b.find('div', id='case_footwear').text.strip() \n",
    "    individual['jewelry'] = b.find('div', id='case_jewelry').text.strip() \n",
    "    individual['eyewear'] = b.find('div', id='case_eyewear').text.strip() \n",
    "    individual['other_items_with_body'] = b.find('div', id='case_other_items_with_body').text.strip() \n",
    "    \n",
    "    individual['dental'] = b.find(name='div', id='dental').find_next('td', attrs={'class':'view_field'}).text.strip()\n",
    "    \n",
    "    individual['dna'] = b.find(name='div', id='dna').find_next('td', attrs={'class':'view_field'}).text.strip()\n",
    "    \n",
    "    individual['images'] = len(b.find('div', id='image_box').find_all('img'))\n",
    "    \n",
    "    #return the 'individual' dictionary so that it can be appended to the `namus` list specified in `namus_fromFile` \n",
    "    return individual"
   ]
  },
  {
   "cell_type": "markdown",
   "metadata": {},
   "source": [
    "* **Call function `namus_fromFile`.**\n",
    "* **I ran this all in one go as it is faster than when downloading all the HTML files from the web, taking about 30 minutes in total**"
   ]
  },
  {
   "cell_type": "code",
   "execution_count": null,
   "metadata": {
    "collapsed": true
   },
   "outputs": [],
   "source": [
    "namus_fromFile(range(0,16000))"
   ]
  },
  {
   "cell_type": "markdown",
   "metadata": {},
   "source": [
    "* **Finally, convert the list of dictionaries into a Pandas dataframe, and save it as both a csv and pickle (options are nice)**"
   ]
  },
  {
   "cell_type": "code",
   "execution_count": null,
   "metadata": {
    "collapsed": true
   },
   "outputs": [],
   "source": [
    "# Convert the list of dictionaries to a pandas dataframe\n",
    "namusdb = pd.DataFrame(namus)\n",
    "\n",
    "#dataframes only exist while you are working on them. You lose everything once you restart your kernal. Therefore, you \n",
    "# have to store the data somewhere as a csv (typically) or pickle it. \n",
    "namusdb.to_csv('namus_html.csv')\n",
    "namusdb.to_pickle('namus_html.pkl')"
   ]
  }
 ],
 "metadata": {
  "kernelspec": {
   "display_name": "Python 3",
   "language": "python",
   "name": "python3"
  },
  "language_info": {
   "codemirror_mode": {
    "name": "ipython",
    "version": 3
   },
   "file_extension": ".py",
   "mimetype": "text/x-python",
   "name": "python",
   "nbconvert_exporter": "python",
   "pygments_lexer": "ipython3",
   "version": "3.4.3"
  }
 },
 "nbformat": 4,
 "nbformat_minor": 0
}
